{
 "cells": [
  {
   "attachments": {},
   "cell_type": "markdown",
   "metadata": {},
   "source": [
    "## 變數是什麼？\n",
    "\n",
    "### 數學中的變數\n",
    "\n",
    "在數學課上，我們經常接觸變數。假設：  \n",
    "\n",
    ">  x - 2 = 0  \n",
    "\n",
    "那麼我們可以知道：  \n",
    "\n",
    ">  x = 2  \n",
    "\n",
    "同樣的概念，但是反過來想，假設今天知道：  \n",
    "\n",
    ">  x = 3  \n",
    "\n",
    "那麼「 x - 2 」會代表什麼？  \n",
    "\n",
    ">  x - 2 = 1  \n",
    "\n",
    "上述中的「 x 」，就是一個變數。因為「 x 」的值可以改變，而隨之「 x - 2 」的值也會跟著改變。"
   ]
  },
  {
   "attachments": {},
   "cell_type": "markdown",
   "metadata": {},
   "source": [
    "### 程式中的變數\n",
    "\n",
    "在程式中，變數的概念和在數學中是一模一樣的！剛才我們看到：\n",
    "\n",
    "> 在 x = 2 時，x - 2 所代表的值是 0。\n",
    "\n",
    "如果現在我們將 x 定為 2，並將 x - 2 的定為 y，我們可以將上述的內容在 Python 程式中重現出來："
   ]
  },
  {
   "cell_type": "code",
   "execution_count": null,
   "metadata": {},
   "outputs": [],
   "source": [
    "x = 2\n",
    "y = x - 2"
   ]
  },
  {
   "cell_type": "code",
   "execution_count": null,
   "metadata": {},
   "outputs": [],
   "source": [
    "print(y)"
   ]
  }
 ],
 "metadata": {
  "kernelspec": {
   "display_name": "Python 3",
   "language": "python",
   "name": "python3"
  },
  "language_info": {
   "codemirror_mode": {
    "name": "ipython",
    "version": 3
   },
   "file_extension": ".py",
   "mimetype": "text/x-python",
   "name": "python",
   "nbconvert_exporter": "python",
   "pygments_lexer": "ipython3",
   "version": "3.10.8"
  },
  "orig_nbformat": 4
 },
 "nbformat": 4,
 "nbformat_minor": 2
}
