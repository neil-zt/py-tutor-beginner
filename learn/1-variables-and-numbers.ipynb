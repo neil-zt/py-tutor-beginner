{
 "cells": [
  {
   "attachments": {},
   "cell_type": "markdown",
   "metadata": {},
   "source": [
    "## 變數是什麼？\n",
    "\n",
    "### 數學中的變數\n",
    "\n",
    "在數學課上，我們經常接觸變數。假設：  \n",
    "\n",
    ">  x - 2 = 0  \n",
    "\n",
    "那麼我們可以知道：  \n",
    "\n",
    ">  x = 2  \n",
    "\n",
    "同樣的概念，但是反過來想，假設今天知道：  \n",
    "\n",
    ">  x = 3  \n",
    "\n",
    "那麼「 x - 2 」會代表什麼？  \n",
    "\n",
    ">  x - 2 = 1  \n",
    "\n",
    "上述中的「 x 」，就是一個變數。因為「 x 」的值可以改變，而隨之「 x - 2 」的值也會跟著改變。"
   ]
  },
  {
   "attachments": {},
   "cell_type": "markdown",
   "metadata": {},
   "source": [
    "### 程式中的變數\n",
    "\n",
    "在程式中，變數的概念和在數學中是一模一樣的！剛才我們看到：\n",
    "\n",
    "> 在 x = 2 時，x - 2 所代表的值是 0。\n",
    "\n",
    "如果現在我們將 x 定為 2，並將 x - 2 的定為 y，我們可以將上述的內容在 Python 程式中重現出來："
   ]
  },
  {
   "cell_type": "code",
   "execution_count": null,
   "metadata": {},
   "outputs": [],
   "source": [
    "x = 2\n",
    "y = x - 2"
   ]
  },
  {
   "cell_type": "code",
   "execution_count": null,
   "metadata": {},
   "outputs": [],
   "source": [
    "print(y)"
   ]
  },
  {
   "attachments": {},
   "cell_type": "markdown",
   "metadata": {},
   "source": [
    "### `=` 究竟是什麼意思？\n",
    "\n",
    "在數學中，等號（＝）兩側的數值永遠相等，但是這樣的改念並不能沿用到程式中。讓我們看看下面的例子："
   ]
  },
  {
   "cell_type": "code",
   "execution_count": null,
   "metadata": {},
   "outputs": [],
   "source": [
    "x = 5\n",
    "print(x)"
   ]
  },
  {
   "cell_type": "code",
   "execution_count": null,
   "metadata": {},
   "outputs": [],
   "source": [
    "x = x + 3"
   ]
  },
  {
   "attachments": {},
   "cell_type": "markdown",
   "metadata": {},
   "source": [
    "上述的這行程式，在數學中永遠不會成立，但是程式卻可以正常執行。為什麼呢？"
   ]
  },
  {
   "cell_type": "code",
   "execution_count": null,
   "metadata": {},
   "outputs": [],
   "source": [
    "print(x)"
   ]
  },
  {
   "attachments": {},
   "cell_type": "markdown",
   "metadata": {},
   "source": [
    "換你試試看了！建立一個新的變數 `y`，讓他代表任意一個數字，並使用 `print()` 將它印出。接著，把 `y` 加上 `5`，並且一樣地將它印出："
   ]
  },
  {
   "cell_type": "code",
   "execution_count": null,
   "metadata": {},
   "outputs": [],
   "source": []
  },
  {
   "attachments": {},
   "cell_type": "markdown",
   "metadata": {},
   "source": [
    "### 數學，還是數學\n",
    "\n",
    "電腦程式打從設計之初，就是為了讓人類減輕計算上的負擔。數學運算，當然也就是一個程式語言的核心。我們先定義 `a` 和 `b` 兩個變數："
   ]
  },
  {
   "cell_type": "code",
   "execution_count": null,
   "metadata": {},
   "outputs": [],
   "source": [
    "a = 9\n",
    "b = 2"
   ]
  },
  {
   "attachments": {},
   "cell_type": "markdown",
   "metadata": {},
   "source": [
    "然後看看，我們常用的數學運算如何進行："
   ]
  },
  {
   "cell_type": "code",
   "execution_count": null,
   "metadata": {},
   "outputs": [],
   "source": [
    "print(a + b)"
   ]
  },
  {
   "cell_type": "code",
   "execution_count": null,
   "metadata": {},
   "outputs": [],
   "source": [
    "print(a - b)"
   ]
  },
  {
   "attachments": {},
   "cell_type": "markdown",
   "metadata": {},
   "source": [
    "那⋯⋯乘法和除法呢？"
   ]
  },
  {
   "cell_type": "code",
   "execution_count": null,
   "metadata": {},
   "outputs": [],
   "source": []
  },
  {
   "cell_type": "code",
   "execution_count": null,
   "metadata": {},
   "outputs": [],
   "source": []
  },
  {
   "attachments": {},
   "cell_type": "markdown",
   "metadata": {},
   "source": [
    "那⋯⋯次方又是如何運算的？"
   ]
  },
  {
   "cell_type": "code",
   "execution_count": null,
   "metadata": {},
   "outputs": [],
   "source": []
  },
  {
   "attachments": {},
   "cell_type": "markdown",
   "metadata": {},
   "source": [
    "### 程式如何減輕人類的運算？\n",
    "\n",
    "在學校裡，我們學過自由落體的高度公式： $h=\\frac{1}{2}gt^2$ 。下面已經定義好了 `g` 和 `t`，請計算出自由落體的高度："
   ]
  },
  {
   "cell_type": "code",
   "execution_count": null,
   "metadata": {},
   "outputs": [],
   "source": []
  },
  {
   "attachments": {},
   "cell_type": "markdown",
   "metadata": {},
   "source": [
    "如果今天有一顆球從高空墜落，在不考慮空氣阻力的情況下，它一共下墜了 30 秒。請問它原本的高度為何？"
   ]
  },
  {
   "cell_type": "code",
   "execution_count": null,
   "metadata": {},
   "outputs": [],
   "source": []
  }
 ],
 "metadata": {
  "kernelspec": {
   "display_name": "Python 3",
   "language": "python",
   "name": "python3"
  },
  "language_info": {
   "codemirror_mode": {
    "name": "ipython",
    "version": 3
   },
   "file_extension": ".py",
   "mimetype": "text/x-python",
   "name": "python",
   "nbconvert_exporter": "python",
   "pygments_lexer": "ipython3",
   "version": "3.9.10"
  },
  "orig_nbformat": 4
 },
 "nbformat": 4,
 "nbformat_minor": 2
}
