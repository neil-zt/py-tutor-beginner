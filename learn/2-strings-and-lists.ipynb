{
 "cells": [
  {
   "attachments": {},
   "cell_type": "markdown",
   "metadata": {},
   "source": [
    "## 字串的基本介紹\n",
    "\n",
    "我們對於字串，都有一定的直覺瞭解：不論你有沒有在程式中使用字串的經驗都是如此。\n",
    "\n",
    "那是因為：字串，顧名思義就是一串字。\n",
    "\n",
    "### 什麼能算是字串？"
   ]
  },
  {
   "cell_type": "code",
   "execution_count": null,
   "metadata": {},
   "outputs": [],
   "source": [
    "a = \"Hello World!\"\n",
    "print(a)"
   ]
  },
  {
   "cell_type": "code",
   "execution_count": null,
   "metadata": {},
   "outputs": [],
   "source": [
    "b = \"I love writing Python!\"\n",
    "print(b)"
   ]
  },
  {
   "cell_type": "code",
   "execution_count": null,
   "metadata": {},
   "outputs": [],
   "source": [
    "c = a + b\n",
    "print(c)"
   ]
  },
  {
   "attachments": {},
   "cell_type": "markdown",
   "metadata": {},
   "source": [
    "換你試試看了！建立一個變數 `name` 和一個變數 `greeting`，並且印出一段打招呼的文字："
   ]
  },
  {
   "cell_type": "code",
   "execution_count": null,
   "metadata": {},
   "outputs": [],
   "source": [
    "name = \"...你想要的名字\"\n",
    "greeting = \"Hello! ...你想要的打招呼句子\"\n",
    "\n",
    "print()"
   ]
  },
  {
   "attachments": {},
   "cell_type": "markdown",
   "metadata": {},
   "source": [
    "### 第幾個 character？\n",
    "\n",
    "今天我有一串字母 a 到 z，我想知道第 15 個字母是什麼，該怎麼做呢？"
   ]
  },
  {
   "cell_type": "code",
   "execution_count": null,
   "metadata": {},
   "outputs": [],
   "source": [
    "X = \"abcdefghijklmnopqrstuvwxyz\"\n",
    "\n",
    "print(X[15])"
   ]
  },
  {
   "attachments": {},
   "cell_type": "markdown",
   "metadata": {},
   "source": [
    "但⋯⋯這樣對嗎？數數看第 15 個字母是什麼？為什麼？而我們又該如何編輯這個程式呢？"
   ]
  },
  {
   "cell_type": "code",
   "execution_count": null,
   "metadata": {},
   "outputs": [],
   "source": [
    "print(X)"
   ]
  },
  {
   "attachments": {},
   "cell_type": "markdown",
   "metadata": {},
   "source": [
    "順帶一提，如果我們想要知道這個字串裡面有幾個字，可以使用內建的 `len` 函數："
   ]
  },
  {
   "cell_type": "code",
   "execution_count": null,
   "metadata": {},
   "outputs": [],
   "source": [
    "len(X)"
   ]
  },
  {
   "attachments": {},
   "cell_type": "markdown",
   "metadata": {},
   "source": [
    "## 列表的基本介紹\n",
    "\n",
    "列表（list）這個名字，顧名思義就是一個可以帶有很多資料的東西。在 Python 中，列表是一個內建的資料型態。"
   ]
  }
 ],
 "metadata": {
  "kernelspec": {
   "display_name": "Python 3",
   "language": "python",
   "name": "python3"
  },
  "language_info": {
   "codemirror_mode": {
    "name": "ipython",
    "version": 3
   },
   "file_extension": ".py",
   "mimetype": "text/x-python",
   "name": "python",
   "nbconvert_exporter": "python",
   "pygments_lexer": "ipython3",
   "version": "3.10.8"
  },
  "orig_nbformat": 4
 },
 "nbformat": 4,
 "nbformat_minor": 2
}
