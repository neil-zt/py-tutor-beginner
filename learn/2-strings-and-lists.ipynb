{
 "cells": [
  {
   "attachments": {},
   "cell_type": "markdown",
   "metadata": {},
   "source": [
    "## 字串的基本介紹\n",
    "\n",
    "我們對於字串，都有一定的直覺瞭解：不論你有沒有在程式中使用字串的經驗都是如此。\n",
    "\n",
    "那是因為：字串，顧名思義就是一串字。\n",
    "\n",
    "### 什麼能算是字串？"
   ]
  },
  {
   "cell_type": "code",
   "execution_count": 1,
   "metadata": {},
   "outputs": [
    {
     "name": "stdout",
     "output_type": "stream",
     "text": [
      "Hello World!\n"
     ]
    }
   ],
   "source": [
    "a = \"Hello World!\"\n",
    "print(a)"
   ]
  },
  {
   "cell_type": "code",
   "execution_count": 2,
   "metadata": {},
   "outputs": [
    {
     "name": "stdout",
     "output_type": "stream",
     "text": [
      "I love writing Python!\n"
     ]
    }
   ],
   "source": [
    "b = \"I love writing Python!\"\n",
    "print(b)"
   ]
  },
  {
   "cell_type": "code",
   "execution_count": 4,
   "metadata": {},
   "outputs": [
    {
     "name": "stdout",
     "output_type": "stream",
     "text": [
      "Hello World! I love writing Python!\n"
     ]
    }
   ],
   "source": [
    "c = a + \" \" + b\n",
    "print(c)"
   ]
  },
  {
   "attachments": {},
   "cell_type": "markdown",
   "metadata": {},
   "source": [
    "換你試試看了！建立一個變數 `name` 和一個變數 `greeting`，並且印出一段打招呼的文字："
   ]
  },
  {
   "cell_type": "code",
   "execution_count": 6,
   "metadata": {},
   "outputs": [
    {
     "name": "stdout",
     "output_type": "stream",
     "text": [
      "Neil. Hello! How are you? \n"
     ]
    }
   ],
   "source": [
    "name = \"Neil.\"\n",
    "greeting = \"Hello! How are you? \" \n",
    "\n",
    "print(name + \" \" + greeting)"
   ]
  },
  {
   "attachments": {},
   "cell_type": "markdown",
   "metadata": {},
   "source": [
    "### 第幾個 character？\n",
    "\n",
    "今天我有一串字母 a 到 z，我想知道第 15 個字母是什麼，該怎麼做呢？"
   ]
  },
  {
   "cell_type": "code",
   "execution_count": 7,
   "metadata": {},
   "outputs": [
    {
     "name": "stdout",
     "output_type": "stream",
     "text": [
      "p\n"
     ]
    }
   ],
   "source": [
    "X = \"abcdefghijklmnopqrstuvwxyz\"\n",
    "\n",
    "print(X[15])"
   ]
  },
  {
   "attachments": {},
   "cell_type": "markdown",
   "metadata": {},
   "source": [
    "但⋯⋯這樣對嗎？數數看第 15 個字母是什麼？為什麼？而我們又該如何編輯這個程式呢？"
   ]
  },
  {
   "cell_type": "code",
   "execution_count": 8,
   "metadata": {},
   "outputs": [
    {
     "name": "stdout",
     "output_type": "stream",
     "text": [
      "abcdefghijklmnopqrstuvwxyz\n"
     ]
    }
   ],
   "source": [
    "print(X)"
   ]
  },
  {
   "attachments": {},
   "cell_type": "markdown",
   "metadata": {},
   "source": [
    "順帶一提，如果我們想要知道這個字串裡面有幾個字，可以使用內建的 `len` 函數："
   ]
  },
  {
   "cell_type": "code",
   "execution_count": 10,
   "metadata": {},
   "outputs": [
    {
     "data": {
      "text/plain": [
       "12"
      ]
     },
     "execution_count": 10,
     "metadata": {},
     "output_type": "execute_result"
    }
   ],
   "source": [
    "len(\"Hello world!\")"
   ]
  },
  {
   "attachments": {},
   "cell_type": "markdown",
   "metadata": {},
   "source": [
    "## 列表的基本介紹\n",
    "\n",
    "列表（list）這個名字，顧名思義就是一個可以帶有很多資料的東西。在 Python 中，列表是一個內建的資料型態。"
   ]
  },
  {
   "cell_type": "code",
   "execution_count": 1,
   "metadata": {},
   "outputs": [],
   "source": [
    "a = [1, 2, 3, 4, 5, 6]"
   ]
  },
  {
   "cell_type": "markdown",
   "metadata": {},
   "source": [
    "仔細看看，可以發現烈表示使用一對中括號 `[]` 來包含文字內容，並且用逗號 `,` 隔開。\n",
    " \n",
    "### 第幾個項目？\n",
    "\n",
    "就像在字串中選字一樣，我們可以在一個列表後加上 `[X]` 來選擇第 `X` 個位置中的內容。就拿剛剛的列表 `a` 來看，如果要選擇出 `3` 這個數字，我們可以使用："
   ]
  },
  {
   "cell_type": "code",
   "execution_count": null,
   "metadata": {},
   "outputs": [],
   "source": [
    "a = [1, 2, 3, 4, 5, 6]\n",
    "print(a[X])     # X 應該是多少，才會印出 3 呢？"
   ]
  },
  {
   "cell_type": "markdown",
   "metadata": {},
   "source": [
    "### 換你試試看\n",
    "\n",
    "1. 建立一個列表，裡面包含了 `1` 到 `20` 中的偶數："
   ]
  },
  {
   "cell_type": "code",
   "execution_count": null,
   "metadata": {},
   "outputs": [],
   "source": [
    "b = "
   ]
  },
  {
   "cell_type": "markdown",
   "metadata": {},
   "source": [
    "2. 利用上面所說的 `[]` 選擇功能，選出列表 `b` 中所有 `3` 的倍數："
   ]
  },
  {
   "cell_type": "code",
   "execution_count": null,
   "metadata": {},
   "outputs": [],
   "source": [
    "print(b[])\n",
    "print(b[])\n",
    "print(b[])"
   ]
  },
  {
   "cell_type": "markdown",
   "metadata": {},
   "source": [
    "3. 我想讓程式印出列表 `b` 的長度（提示：回去前面字串的地方，看看用什麼東西可以印出東西的長度！）"
   ]
  },
  {
   "cell_type": "code",
   "execution_count": null,
   "metadata": {},
   "outputs": [],
   "source": [
    "print()"
   ]
  },
  {
   "cell_type": "markdown",
   "metadata": {},
   "source": [
    "### 列表中可以放各種東西\n",
    "\n",
    "一個 Python 的列表中可以放進各種東西，不僅僅是數字，例如："
   ]
  },
  {
   "cell_type": "code",
   "execution_count": null,
   "metadata": {},
   "outputs": [],
   "source": [
    "a = 2\n",
    "b = \"3\"\n",
    "c = [\"a\", a, 2, b, \"c\"]"
   ]
  },
  {
   "cell_type": "code",
   "execution_count": null,
   "metadata": {},
   "outputs": [],
   "source": [
    "print(c)"
   ]
  },
  {
   "cell_type": "markdown",
   "metadata": {},
   "source": [
    "現在我們來建立一個只有字串的列表："
   ]
  },
  {
   "cell_type": "code",
   "execution_count": null,
   "metadata": {},
   "outputs": [],
   "source": [
    "names = ['Alice', 'Bob', 'Charlie']"
   ]
  },
  {
   "cell_type": "markdown",
   "metadata": {},
   "source": [
    "請嘗試：\n",
    "1. 利用 `[]` 選取 `\"Bob\"` 這個名字並將其印出。\n",
    "2. 印出 `\"Bob\"` 中的第 `0` 個字母。"
   ]
  },
  {
   "cell_type": "code",
   "execution_count": null,
   "metadata": {},
   "outputs": [],
   "source": [
    "print(names[])\n",
    "print()"
   ]
  }
 ],
 "metadata": {
  "kernelspec": {
   "display_name": "Python 3",
   "language": "python",
   "name": "python3"
  },
  "language_info": {
   "codemirror_mode": {
    "name": "ipython",
    "version": 3
   },
   "file_extension": ".py",
   "mimetype": "text/x-python",
   "name": "python",
   "nbconvert_exporter": "python",
   "pygments_lexer": "ipython3",
   "version": "3.9.10"
  },
  "orig_nbformat": 4
 },
 "nbformat": 4,
 "nbformat_minor": 2
}
