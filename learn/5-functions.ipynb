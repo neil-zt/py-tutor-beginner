{
 "cells": [
  {
   "cell_type": "markdown",
   "metadata": {},
   "source": [
    "## 把函數視為數學中的函數"
   ]
  },
  {
   "cell_type": "markdown",
   "metadata": {},
   "source": [
    "回憶一下我們在數學課中所學過的函數，是用來做什麼的呢？其實函數就像是一台機器，給它一個輸入，它就給你一個輸出。假設有一個函數叫做「 $f$ 」，當你輸入 $3$，他就輸出 $9$，那麼我們可以把這式子表示成：\n",
    "\n",
    "$$f(3) = 9$$"
   ]
  },
  {
   "cell_type": "markdown",
   "metadata": {},
   "source": [
    "函數就像是一個自定義運算符號，用來計算你希望它計算的值。每一個函數都有自己的定義，例如我將函數「 $g$ 」定義為兩個輸入值「 $a$ 」和「 $b$ 」的相加。這可以表達作：\n",
    "\n",
    "$$g(a, b) = a + b$$\n",
    "\n",
    "那麼當要使用這個函數時，我們可以寫說 $g(4, 7)$，而這所代表的值是 $11$。另外，在運算時，假設遇到一個題目，我們需要先將函數算出來將，然後就可以算出結果：\n",
    "\n",
    "$$3 × g(3, 5)\n",
    "    = 3 * 8\n",
    "    = 24$$"
   ]
  },
  {
   "cell_type": "markdown",
   "metadata": {},
   "source": [
    "### 在程式中呢？\n",
    "\n",
    "在 Python 中，我們也可以定義如上面那樣的函數，例如，$g(a, b) = a + b$ 就可以寫成："
   ]
  },
  {
   "cell_type": "code",
   "execution_count": 1,
   "metadata": {},
   "outputs": [],
   "source": [
    "def g(a, b):\n",
    "    return a + b"
   ]
  },
  {
   "cell_type": "code",
   "execution_count": 2,
   "metadata": {},
   "outputs": [
    {
     "name": "stdout",
     "output_type": "stream",
     "text": [
      "8\n"
     ]
    }
   ],
   "source": [
    "print(g(3, 5))"
   ]
  },
  {
   "cell_type": "markdown",
   "metadata": {},
   "source": [
    "這裡需要注意的是，在定義 `g(a, b)` 之前，我們需要先告訴 Python 我們要「定義（**def**ine）」一個函數，接著便是 Python 中常看到的冒號 `:` 以及空四格的語法了。"
   ]
  },
  {
   "cell_type": "markdown",
   "metadata": {},
   "source": [
    "另外，因為 `=` 在程式中是「賦予值」的意思，我們自然不能寫這樣的程式：`def g(a, b) = a + b`，而是需要用一個 `return` 關鍵字，來定義函數的回傳值。"
   ]
  },
  {
   "cell_type": "markdown",
   "metadata": {},
   "source": [
    "### 換你試試看了！\n",
    "\n",
    "已知自由落體高度的公式 $h = \\frac{1}{2}\\cdot 9.81 \\cdot t^2$，請寫一個函數 `h(t)`，使其回傳 `t` 秒時自由落體的掉落高度。"
   ]
  },
  {
   "cell_type": "code",
   "execution_count": 3,
   "metadata": {},
   "outputs": [
    {
     "name": "stdout",
     "output_type": "stream",
     "text": [
      "0.04905000000000001\n",
      "0.19620000000000004\n",
      "0.44145\n"
     ]
    }
   ],
   "source": [
    "def h(t):\n",
    "    return 0.5 * 9.81 * t**2\n",
    "\n",
    "print(h(0.1))\n",
    "print(h(0.2))\n",
    "print(h(0.3))"
   ]
  },
  {
   "cell_type": "markdown",
   "metadata": {},
   "source": [
    "### 函數不一定要回傳數字\n",
    "\n",
    "數學中的函數，大多時候都是回傳一個數字。在程式中，你可以讓他回傳各種東西，像是字串："
   ]
  },
  {
   "cell_type": "code",
   "execution_count": 4,
   "metadata": {},
   "outputs": [],
   "source": [
    "def get_greeting(name):\n",
    "    return 'Hello ' + name + '!'"
   ]
  },
  {
   "cell_type": "code",
   "execution_count": 5,
   "metadata": {},
   "outputs": [
    {
     "name": "stdout",
     "output_type": "stream",
     "text": [
      "Hello Neil!\n"
     ]
    }
   ],
   "source": [
    "print(get_greeting(\"Neil\"))"
   ]
  },
  {
   "cell_type": "markdown",
   "metadata": {},
   "source": [
    "### 函數可以用來簡化工作！\n",
    "\n",
    "如果今天你要重複一件很麻煩的工作，我們可以把工作通通丟進函數裡。例如，如果我要跟兩個使用者打招呼："
   ]
  },
  {
   "cell_type": "code",
   "execution_count": null,
   "metadata": {},
   "outputs": [],
   "source": [
    "print(\"Hello Ben!\")\n",
    "print(\"Welcome to the World Trade Center\")\n",
    "print(\"I am a Python program running on your computer\")\n",
    "\n",
    "print(\"Hello Ashley!\")\n",
    "print(\"Welcome to the World Trade Center\")\n",
    "print(\"I am a Python program running on your computer\")"
   ]
  },
  {
   "cell_type": "markdown",
   "metadata": {},
   "source": [
    "仔細觀察一下，上述的程式碼裡面，除了名字之外並埋有任何的不同，因此我們可以製作一個函數來簡化程式："
   ]
  },
  {
   "cell_type": "code",
   "execution_count": 6,
   "metadata": {},
   "outputs": [],
   "source": [
    "def greet(name): \n",
    "    print(\"Hello \" + name + \"!\")\n",
    "    print(\"Welcome to the World Trade Center\")\n",
    "    print(\"I am a Python program running on your computer\")"
   ]
  },
  {
   "cell_type": "markdown",
   "metadata": {},
   "source": [
    "接著就可以來使用這兩個函數："
   ]
  },
  {
   "cell_type": "code",
   "execution_count": 7,
   "metadata": {},
   "outputs": [
    {
     "name": "stdout",
     "output_type": "stream",
     "text": [
      "Hello Ben!\n",
      "Welcome to the World Trade Center\n",
      "I am a Python program running on your computer\n",
      "Hello Ashley!\n",
      "Welcome to the World Trade Center\n",
      "I am a Python program running on your computer\n"
     ]
    }
   ],
   "source": [
    "greet(\"Ben\")\n",
    "greet(\"Ashley\")"
   ]
  }
 ],
 "metadata": {
  "kernelspec": {
   "display_name": "Python 3",
   "language": "python",
   "name": "python3"
  },
  "language_info": {
   "codemirror_mode": {
    "name": "ipython",
    "version": 3
   },
   "file_extension": ".py",
   "mimetype": "text/x-python",
   "name": "python",
   "nbconvert_exporter": "python",
   "pygments_lexer": "ipython3",
   "version": "3.9.10"
  },
  "orig_nbformat": 4
 },
 "nbformat": 4,
 "nbformat_minor": 2
}
