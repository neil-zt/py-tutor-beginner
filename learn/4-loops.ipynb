{
 "cells": [
  {
   "cell_type": "markdown",
   "metadata": {},
   "source": [
    "## 迴圈的觀念\n",
    "\n",
    "迴圈這個東西，在程式中可說是不可或缺的—假設你要重複一件事情 100 次，你應該不會想要重複寫一段程式 100 次，而是希望電腦能夠自動重複程式 100 次。"
   ]
  },
  {
   "cell_type": "markdown",
   "metadata": {},
   "source": [
    "### 複習列表\n",
    "\n",
    "Python 的 for 迴圈與其他程式語言有些許的不同，不同的點在於，在 Python 中，for 迴圈必須有一個能夠作為基準的列表（list）才能運作。\n",
    "\n",
    "在這裡，讓我們來建立一個列表叫做 fruits："
   ]
  },
  {
   "cell_type": "code",
   "execution_count": 1,
   "metadata": {},
   "outputs": [],
   "source": [
    "fruits = [\"apple\", \"banana\", \"cherry\"]   "
   ]
  },
  {
   "cell_type": "markdown",
   "metadata": {},
   "source": [
    "現在，我們想要把 fruits 列表中的每一項水果都印出來，要怎麼做呢？讓我們回想一下列表這個東西，我們可以一個個將水果印出來，像是這樣："
   ]
  },
  {
   "cell_type": "code",
   "execution_count": 2,
   "metadata": {},
   "outputs": [
    {
     "name": "stdout",
     "output_type": "stream",
     "text": [
      "apple\n",
      "banana\n",
      "cherry\n"
     ]
    }
   ],
   "source": [
    "print(fruits[0])  \n",
    "print(fruits[1])  \n",
    "print(fruits[2]) "
   ]
  },
  {
   "cell_type": "markdown",
   "metadata": {},
   "source": [
    "如此一來，螢幕上便會出現「apple」、「banana」、「cherry」三種水果的字串。但是如果今天這個列表有一百萬種水果呢？我們會不會需要複製 print() 一百萬次呢？"
   ]
  },
  {
   "cell_type": "markdown",
   "metadata": {},
   "source": [
    "以我們目前對於 Python 的瞭解，我們的確需要複製貼上一百萬次 print() 函數，但是很顯然的，一定有方法可以讓這項工作簡單一點。那麼，這個神奇的方法是什麼呢？那就是 for 迴圈。\n",
    "\n"
   ]
  },
  {
   "cell_type": "markdown",
   "metadata": {},
   "source": [
    "### for 迴圈"
   ]
  },
  {
   "cell_type": "code",
   "execution_count": 3,
   "metadata": {},
   "outputs": [
    {
     "name": "stdout",
     "output_type": "stream",
     "text": [
      "apple\n",
      "banana\n",
      "cherry\n"
     ]
    }
   ],
   "source": [
    "for fruit in fruits:  \n",
    "    print(fruit)  "
   ]
  },
  {
   "cell_type": "markdown",
   "metadata": {},
   "source": [
    "什麼？就這麼簡單？沒錯！這樣看起來，for 迴圈的確很方便，但是似乎有些艱澀難懂。但如果我們把 fruits 變數的列表代進去看，就會好懂很多了："
   ]
  },
  {
   "cell_type": "code",
   "execution_count": 4,
   "metadata": {},
   "outputs": [
    {
     "name": "stdout",
     "output_type": "stream",
     "text": [
      "apple\n",
      "banana\n",
      "cherry\n"
     ]
    }
   ],
   "source": [
    "for fruit in [\"apple\", \"banana\", \"cherry\"]:  \n",
    "    print(fruit) "
   ]
  },
  {
   "cell_type": "markdown",
   "metadata": {},
   "source": [
    "![](https://raw.githubusercontent.com/zetria-org/content/main/images/nbplusof6.jpg)"
   ]
  },
  {
   "cell_type": "markdown",
   "metadata": {},
   "source": [
    "### 換你試試看了！"
   ]
  },
  {
   "cell_type": "markdown",
   "metadata": {},
   "source": [
    "建立一個 for 迴圈，讓它 loop 過一個包含自己朋友名字的列表，並一一將名字列出。"
   ]
  },
  {
   "cell_type": "code",
   "execution_count": 10,
   "metadata": {},
   "outputs": [
    {
     "name": "stdout",
     "output_type": "stream",
     "text": [
      "Annie\n",
      "Bob\n",
      "Charlie\n"
     ]
    }
   ],
   "source": [
    "names = [\"Annie\", \"Bob\", \"Charlie\"]\n",
    "for name in names:\n",
    "    print(name)"
   ]
  },
  {
   "cell_type": "markdown",
   "metadata": {},
   "source": [
    "### range() 函數"
   ]
  },
  {
   "cell_type": "markdown",
   "metadata": {},
   "source": [
    "現在，我們知道了要如何讓迴圈執行與列表長度相對應的次數，但是你有沒有想過一個問題：如果今天我們沒有列表，迴圈不就不能執行了嗎？遇到這樣的問題，我們要如何解決呢？很簡單，如果沒有列表，那就製作一個吧！"
   ]
  },
  {
   "cell_type": "markdown",
   "metadata": {},
   "source": [
    "但是，假設今天我們要讓迴圈重複一百萬次，我們總不可能徒手打出一個一百萬個項目的列表吧！這種時候，range() 函數就發揮功用了。如果今天我們要印出 0 ~ 5 總共 6 個數字"
   ]
  },
  {
   "cell_type": "code",
   "execution_count": 11,
   "metadata": {},
   "outputs": [
    {
     "name": "stdout",
     "output_type": "stream",
     "text": [
      "0\n",
      "1\n",
      "2\n",
      "3\n",
      "4\n",
      "5\n"
     ]
    }
   ],
   "source": [
    "for i in [0, 1, 2, 3, 4, 5]:  \n",
    "    print(i) "
   ]
  },
  {
   "cell_type": "code",
   "execution_count": 12,
   "metadata": {},
   "outputs": [
    {
     "name": "stdout",
     "output_type": "stream",
     "text": [
      "0\n",
      "1\n",
      "2\n",
      "3\n",
      "4\n",
      "5\n"
     ]
    }
   ],
   "source": [
    "for i in range(6):  \n",
    "    print(i) "
   ]
  },
  {
   "cell_type": "markdown",
   "metadata": {},
   "source": [
    "### 換你試試看了\n",
    "\n",
    "用 for 和 range 印出 0 到 99 共 100 個數字，並且印出所有 8 的倍數。"
   ]
  },
  {
   "cell_type": "code",
   "execution_count": 13,
   "metadata": {},
   "outputs": [
    {
     "name": "stdout",
     "output_type": "stream",
     "text": [
      "0\n",
      "8\n",
      "16\n",
      "24\n",
      "32\n",
      "40\n",
      "48\n",
      "56\n",
      "64\n",
      "72\n",
      "80\n",
      "88\n",
      "96\n"
     ]
    }
   ],
   "source": [
    "for i in range(100):\n",
    "    if i % 8 == 0:\n",
    "        print(i)"
   ]
  },
  {
   "cell_type": "markdown",
   "metadata": {},
   "source": [
    "再進階一步：印出所有是 8 的倍數但不是 16 的倍數的數字。"
   ]
  },
  {
   "cell_type": "code",
   "execution_count": 15,
   "metadata": {},
   "outputs": [
    {
     "name": "stdout",
     "output_type": "stream",
     "text": [
      "8\n",
      "24\n",
      "40\n",
      "56\n",
      "72\n",
      "88\n"
     ]
    }
   ],
   "source": [
    "for i in range(100):\n",
    "    if i % 8 == 0 and i % 16 != 0:\n",
    "        print(i)"
   ]
  },
  {
   "cell_type": "markdown",
   "metadata": {},
   "source": [
    "### continue\n",
    "今天有一個列表叫做 c，其所帶有的值是從 0 到 9 的 10 個數字："
   ]
  },
  {
   "cell_type": "code",
   "execution_count": 16,
   "metadata": {},
   "outputs": [],
   "source": [
    "c = [0, 1, 2, 3, 4, 5, 6, 7, 8, 9]"
   ]
  },
  {
   "cell_type": "markdown",
   "metadata": {},
   "source": [
    "而現在，如果我們想要將列表中的每一個數字全部都印出來，我們便可以使用 for 迴圈，像是這樣："
   ]
  },
  {
   "cell_type": "code",
   "execution_count": 17,
   "metadata": {},
   "outputs": [
    {
     "name": "stdout",
     "output_type": "stream",
     "text": [
      "0\n",
      "1\n",
      "2\n",
      "3\n",
      "4\n",
      "5\n",
      "6\n",
      "7\n",
      "8\n",
      "9\n"
     ]
    }
   ],
   "source": [
    "for i in c:\n",
    "    print(i)    "
   ]
  },
  {
   "cell_type": "markdown",
   "metadata": {},
   "source": [
    "但是假設我們今天就是特別討厭 4 這個數字，因此想要在每次迴圈要印出 4 之前就跳過 4，直接到下一個數，這樣要怎麼做呢？讓我們看看以下的解決方法："
   ]
  },
  {
   "cell_type": "code",
   "execution_count": 18,
   "metadata": {},
   "outputs": [
    {
     "name": "stdout",
     "output_type": "stream",
     "text": [
      "0\n",
      "1\n",
      "2\n",
      "3\n",
      "5\n",
      "6\n",
      "7\n",
      "8\n",
      "9\n"
     ]
    }
   ],
   "source": [
    "for i in c:  \n",
    "    if i == 4:\n",
    "        continue\n",
    "    print(i)  "
   ]
  },
  {
   "cell_type": "markdown",
   "metadata": {},
   "source": [
    "這是什麼意思呢？\n",
    "\n",
    "```\n",
    "用 i 這個變數在 c 列表中做迴圈:  \n",
    "    如果 i 是 4:  \n",
    "        跳過這次迴圈，直接到下個數  \n",
    "    印出(i)\n",
    "```"
   ]
  },
  {
   "cell_type": "markdown",
   "metadata": {},
   "source": [
    "讓我們再來看看下一個例子。現在我們想要印出 0 ~ 21 中，非 6 的倍數的所有數字，並且將數字間用逗號隔開，那麼我們可以這樣做："
   ]
  },
  {
   "cell_type": "code",
   "execution_count": 19,
   "metadata": {},
   "outputs": [
    {
     "name": "stdout",
     "output_type": "stream",
     "text": [
      "1\n",
      "2\n",
      "3\n",
      "4\n",
      "5\n",
      "7\n",
      "8\n",
      "9\n",
      "10\n",
      "11\n",
      "13\n",
      "14\n",
      "15\n",
      "16\n",
      "17\n",
      "19\n"
     ]
    }
   ],
   "source": [
    "for i in range(20):  \n",
    "    if i % 6 == 0:  \n",
    "        continue  \n",
    "    print(i)"
   ]
  },
  {
   "cell_type": "markdown",
   "metadata": {},
   "source": [
    "### 換你試試看\n",
    "\n",
    "剛剛的問題：印出 0 到 50 中所有是 8 的倍數但不是 16 的倍數的數字。"
   ]
  },
  {
   "cell_type": "code",
   "execution_count": 20,
   "metadata": {},
   "outputs": [
    {
     "name": "stdout",
     "output_type": "stream",
     "text": [
      "8\n",
      "24\n",
      "40\n"
     ]
    }
   ],
   "source": [
    "for i in range(51):\n",
    "    if i % 8 == 0:\n",
    "        if i % 16 == 0:\n",
    "            continue\n",
    "        print(i)"
   ]
  },
  {
   "cell_type": "markdown",
   "metadata": {},
   "source": [
    "### break"
   ]
  },
  {
   "cell_type": "markdown",
   "metadata": {},
   "source": [
    "break 和 continue 非常的相似，但是有一個極為龐大的不同點。讓我們把剛剛 6 的倍數的那個例子拿到這邊，並且將 continue 變成 break，看看發生甚麼事情吧："
   ]
  },
  {
   "cell_type": "code",
   "execution_count": 21,
   "metadata": {},
   "outputs": [
    {
     "name": "stdout",
     "output_type": "stream",
     "text": [
      "0\n",
      "1\n",
      "2\n",
      "3\n",
      "4\n",
      "6\n",
      "7\n",
      "8\n",
      "9\n",
      "10\n",
      "12\n",
      "13\n",
      "14\n",
      "15\n",
      "16\n",
      "18\n",
      "19\n",
      "20\n"
     ]
    }
   ],
   "source": [
    "for i in range(21):   \n",
    "    if i % 6 == 5:\n",
    "        continue   \n",
    "    print(i)  "
   ]
  },
  {
   "cell_type": "code",
   "execution_count": 22,
   "metadata": {},
   "outputs": [
    {
     "name": "stdout",
     "output_type": "stream",
     "text": [
      "0\n",
      "1\n",
      "2\n",
      "3\n",
      "4\n"
     ]
    }
   ],
   "source": [
    "for i in range(21):   \n",
    "    if i % 6 == 5:\n",
    "        break   \n",
    "    print(i)  "
   ]
  },
  {
   "cell_type": "markdown",
   "metadata": {},
   "source": [
    "所以是什麼意思呢？"
   ]
  },
  {
   "cell_type": "markdown",
   "metadata": {},
   "source": [
    "Continue: \n",
    "```\n",
    "用 i 這個變數在 0 ~ 20 的列表中做迴圈:  \n",
    "    如果 i 除以 6 餘數是 5:  \n",
    "        跳過這次迴圈，直接到下個數  \n",
    "    印出(i)\n",
    "```\n",
    "\n",
    "Break: \n",
    "```\n",
    "用 i 這個變數在 0 ~ 20 的列表中做迴圈:  \n",
    "    如果 i 除以 6 餘數是 5:  \n",
    "        直接結束這個迴圈  \n",
    "    印出(i)\n",
    "```"
   ]
  },
  {
   "cell_type": "markdown",
   "metadata": {},
   "source": [
    "### 換你試試看！"
   ]
  },
  {
   "cell_type": "markdown",
   "metadata": {},
   "source": [
    "有一個名字列表 `names`，利用 for 和 break 找到第一位 `\"Bob\"` 是在列表中的第幾個位子。"
   ]
  },
  {
   "cell_type": "code",
   "execution_count": 24,
   "metadata": {},
   "outputs": [],
   "source": [
    "names = [\"Abbie\", \"Maggie\", \"laura\", \"Natalie\", \"Bob\", \"Spencer\"]"
   ]
  },
  {
   "cell_type": "code",
   "execution_count": 29,
   "metadata": {},
   "outputs": [
    {
     "name": "stdout",
     "output_type": "stream",
     "text": [
      "Abbie\n",
      "Maggie\n",
      "laura\n",
      "Natalie\n",
      "5\n"
     ]
    }
   ],
   "source": [
    "count = 0\n",
    "for name in names:\n",
    "    count = count + 1\n",
    "    if name == \"Bob\":\n",
    "        break\n",
    "    print(name)\n",
    "print(count)"
   ]
  },
  {
   "cell_type": "code",
   "execution_count": 35,
   "metadata": {},
   "outputs": [
    {
     "name": "stdout",
     "output_type": "stream",
     "text": [
      "*\n",
      "**\n",
      "***\n",
      "****\n",
      "*****\n"
     ]
    }
   ],
   "source": [
    "\"\"\"\n",
    "*\n",
    "**\n",
    "***\n",
    "****\n",
    "*****\n",
    "[0, 1, 2, 3, 4]\n",
    "\"\"\"\n",
    "for i in range(5):\n",
    "    print(\"*\" * (i + 1))"
   ]
  }
 ],
 "metadata": {
  "kernelspec": {
   "display_name": "Python 3",
   "language": "python",
   "name": "python3"
  },
  "language_info": {
   "codemirror_mode": {
    "name": "ipython",
    "version": 3
   },
   "file_extension": ".py",
   "mimetype": "text/x-python",
   "name": "python",
   "nbconvert_exporter": "python",
   "pygments_lexer": "ipython3",
   "version": "3.9.10"
  },
  "orig_nbformat": 4
 },
 "nbformat": 4,
 "nbformat_minor": 2
}
