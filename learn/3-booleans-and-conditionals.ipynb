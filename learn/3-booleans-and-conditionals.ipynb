{
 "cells": [
  {
   "cell_type": "markdown",
   "metadata": {},
   "source": [
    "## 基本的布林觀念\n",
    "\n",
    "很多時候，我們建立一個變數，不需要儲存文字或數字，而是單純記憶事情的「是」與「非」，這時候，布林值就有很大的用途。電腦中的布林值，是以一位數學家喬治．布林來命名的；在大部分的環境中，布林值是一種只能帶有「是」或「非」的資料型態。"
   ]
  },
  {
   "cell_type": "markdown",
   "metadata": {},
   "source": [
    "在 Python 中，布林值的「是」和「非」可以用 `True` 和 `False` 兩者來表。"
   ]
  },
  {
   "cell_type": "code",
   "execution_count": 1,
   "metadata": {},
   "outputs": [
    {
     "name": "stdout",
     "output_type": "stream",
     "text": [
      "True\n"
     ]
    }
   ],
   "source": [
    "print(True)"
   ]
  },
  {
   "cell_type": "markdown",
   "metadata": {},
   "source": [
    "當我們在進行一個比較時，便是在使用布林值："
   ]
  },
  {
   "cell_type": "code",
   "execution_count": 2,
   "metadata": {},
   "outputs": [
    {
     "name": "stdout",
     "output_type": "stream",
     "text": [
      "False\n",
      "True\n",
      "True\n"
     ]
    }
   ],
   "source": [
    "print(2 > 3)\n",
    "print(2 == 2)\n",
    "print(2 < 3)"
   ]
  },
  {
   "cell_type": "markdown",
   "metadata": {},
   "source": [
    "### 布林值也可以運算！\n",
    "\n",
    "我們有時候會聽到別人說「邏輯運算」，其實說白了就只是布林值的運算而已。Python 的布林運算有三個願算符號：\n",
    "- `and`\n",
    "- `or`\n",
    "- `not`"
   ]
  },
  {
   "cell_type": "markdown",
   "metadata": {},
   "source": [
    "仔細觀察下面這些例子的結果，想想看他們是否合理？"
   ]
  },
  {
   "cell_type": "code",
   "execution_count": 3,
   "metadata": {},
   "outputs": [
    {
     "name": "stdout",
     "output_type": "stream",
     "text": [
      "True\n",
      "False\n",
      "False\n"
     ]
    }
   ],
   "source": [
    "print(True and True)\n",
    "print(True and False)\n",
    "print(False and False)"
   ]
  },
  {
   "cell_type": "code",
   "execution_count": 4,
   "metadata": {},
   "outputs": [
    {
     "name": "stdout",
     "output_type": "stream",
     "text": [
      "True\n",
      "True\n",
      "True\n"
     ]
    }
   ],
   "source": [
    "print(True or True)\n",
    "print(True or False)\n",
    "print(False or True)"
   ]
  },
  {
   "cell_type": "code",
   "execution_count": 5,
   "metadata": {},
   "outputs": [
    {
     "name": "stdout",
     "output_type": "stream",
     "text": [
      "False\n",
      "True\n"
     ]
    }
   ],
   "source": [
    "print(not True)\n",
    "print(not False)"
   ]
  },
  {
   "cell_type": "markdown",
   "metadata": {},
   "source": [
    "### 應用 `and`、`or`、`not`"
   ]
  },
  {
   "cell_type": "code",
   "execution_count": 6,
   "metadata": {},
   "outputs": [
    {
     "name": "stdout",
     "output_type": "stream",
     "text": [
      "False\n"
     ]
    }
   ],
   "source": [
    "print(2 > 3 and 2 > 1)"
   ]
  },
  {
   "cell_type": "markdown",
   "metadata": {},
   "source": [
    "## 判斷式的基本介紹"
   ]
  },
  {
   "cell_type": "markdown",
   "metadata": {},
   "source": [
    "程式，是一種充滿了邏輯的東西 — 如果 A 事件發生了，則要執行 B 工作。這種「如果… 則… 」的運算稱為 判斷式，英文稱作 conditional statement。在 Python 中，這種判斷相當的簡單，短短的一行，就可以完成很複雜的判斷。"
   ]
  },
  {
   "cell_type": "markdown",
   "metadata": {},
   "source": [
    "[https://zetria.tw/python/9c4261eaf9](https://zetria.tw/python/9c4261eaf9)"
   ]
  },
  {
   "cell_type": "markdown",
   "metadata": {},
   "source": [
    "### 換你試試看！\n",
    "\n",
    "現在我已經有下面的程式，將正確的密碼儲存在變數 `correct_password` 中："
   ]
  },
  {
   "cell_type": "code",
   "execution_count": 7,
   "metadata": {},
   "outputs": [],
   "source": [
    "correct_password = \"python123\""
   ]
  },
  {
   "cell_type": "markdown",
   "metadata": {},
   "source": [
    "另外，我們提示使用者輸入一個密碼，並且將它儲存在變數 `input_password` 中。"
   ]
  },
  {
   "cell_type": "code",
   "execution_count": 10,
   "metadata": {},
   "outputs": [],
   "source": [
    "input_password = input(\"Please enter your password: \")"
   ]
  },
  {
   "cell_type": "markdown",
   "metadata": {},
   "source": [
    "請寫一個 `if ... else ...` 的小程式，在使用者輸入密碼正確時，印出「密碼正確」的字樣，而密碼錯誤時，則印出「密碼錯誤」。"
   ]
  },
  {
   "cell_type": "code",
   "execution_count": 11,
   "metadata": {},
   "outputs": [
    {
     "name": "stdout",
     "output_type": "stream",
     "text": [
      "密碼錯誤\n"
     ]
    }
   ],
   "source": [
    "if correct_password == input_password:\n",
    "    print(\"密碼正確\")\n",
    "else:\n",
    "    print(\"密碼錯誤\")"
   ]
  },
  {
   "cell_type": "markdown",
   "metadata": {},
   "source": [
    "### 再換試試看一次！\n",
    "\n",
    "我們來做一個程式，來判斷輸入的星期數字，並且給予相對應的輸出。例如，在星期 `\"1\"` 的時候要印出「真慘」、星期 `\"5\"` 的時候要印出「恭喜！」，以此類推。\n",
    "\n",
    "在這，我們已經有一小段程式，讓使用者輸入星期幾，並將回答儲存到變數 `weekday` 之中。"
   ]
  },
  {
   "cell_type": "code",
   "execution_count": 12,
   "metadata": {},
   "outputs": [],
   "source": [
    "weekday = input(\"今天星期幾？請輸入數字 1 ~ 7：\")"
   ]
  },
  {
   "cell_type": "code",
   "execution_count": null,
   "metadata": {},
   "outputs": [],
   "source": [
    "if weekday == \"1\":\n",
    "    print(\"悲劇的一個禮拜開始了。\")\n",
    "if weekday == \"2\":\n",
    "    print(\"還有四天就可以放假了。\")\n",
    "if weekday == \"3\":\n",
    "    print(\"還有三天就可以放假了。\")\n",
    "if weekday == \"4\":\n",
    "    print(\"還有兩天就可以放假了。\")\n",
    "if weekday == \"5\":\n",
    "    print(\"今天可以放假了！恭喜！\")\n",
    "if weekday == \"6\":\n",
    "    print(\"放假第一天！\")\n",
    "if weekday == \"7\":\n",
    "    print(\"放假第二天！\")"
   ]
  }
 ],
 "metadata": {
  "kernelspec": {
   "display_name": "Python 3",
   "language": "python",
   "name": "python3"
  },
  "language_info": {
   "codemirror_mode": {
    "name": "ipython",
    "version": 3
   },
   "file_extension": ".py",
   "mimetype": "text/x-python",
   "name": "python",
   "nbconvert_exporter": "python",
   "pygments_lexer": "ipython3",
   "version": "3.9.10"
  },
  "orig_nbformat": 4
 },
 "nbformat": 4,
 "nbformat_minor": 2
}
